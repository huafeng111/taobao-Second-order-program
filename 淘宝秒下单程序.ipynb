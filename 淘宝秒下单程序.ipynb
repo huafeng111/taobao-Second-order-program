{
 "cells": [
  {
   "cell_type": "code",
   "execution_count": 1,
   "id": "0c8f760b",
   "metadata": {},
   "outputs": [],
   "source": [
    "from selenium import webdriver\n",
    "import datetime\n",
    "import time\n",
    "from pynput.keyboard import Key, Controller\n"
   ]
  },
  {
   "cell_type": "code",
   "execution_count": 2,
   "id": "72c4d212",
   "metadata": {},
   "outputs": [
    {
     "name": "stdout",
     "output_type": "stream",
     "text": [
      "2021-12-03 14:40:12.758847\n"
     ]
    }
   ],
   "source": [
    "now_time = datetime.datetime.now().strftime('%Y-%m-%d %H:%M:%S.%f')\n",
    "print(now_time)"
   ]
  },
  {
   "cell_type": "code",
   "execution_count": 3,
   "id": "b69e4c81",
   "metadata": {},
   "outputs": [],
   "source": [
    "keyboard=Controller()"
   ]
  },
  {
   "cell_type": "code",
   "execution_count": 4,
   "id": "790b5b82",
   "metadata": {},
   "outputs": [],
   "source": [
    "keyboard.press(Key.enter)\n",
    "keyboard.release(Key.enter)"
   ]
  },
  {
   "cell_type": "code",
   "execution_count": 5,
   "id": "f4b83c39",
   "metadata": {},
   "outputs": [],
   "source": [
    "def login():\n",
    "    # 扫码登录\n",
    "    browser.get(\"https://www.taobao.com\")\n",
    "    time.sleep(7)\n",
    "    if browser.find_element_by_link_text(\"亲，请登录\"):\n",
    "        browser.find_element_by_link_text(\"亲，请登录\").click()\n",
    "        print(f\"请尽快扫码登录\")\n",
    "    time.sleep(20)"
   ]
  },
  {
   "cell_type": "code",
   "execution_count": 6,
   "id": "5ca289f8",
   "metadata": {},
   "outputs": [],
   "source": [
    "def picking():\n",
    "    # 打开购物车页面\n",
    "    browser.get(\"https://cart.taobao.com/cart.htm\")\n",
    "    time.sleep(1)\n",
    "    state=int(input(\"请输入筛选模式 1：手动筛选 2：自动全选\\n\"))\n",
    "    if state == 2:\n",
    "        while True:\n",
    "            try:\n",
    "                if browser.find_element_by_id(\"J_SelectAll1\"):\n",
    "                    browser.find_element_by_id(\"J_SelectAll1\").click()\n",
    "                    break\n",
    "            except:\n",
    "                print(f\"登录超时 请重新尝试\")\n",
    "                return False\n",
    "                break\n",
    "    else:\n",
    "        while True:\n",
    "            order_state = input(\"请手动勾选商品，完成请输入Y\")\n",
    "            if order_state==\"Y\":\n",
    "                break\n",
    "    return True"
   ]
  },
  {
   "cell_type": "code",
   "execution_count": 7,
   "id": "496a72b7",
   "metadata": {},
   "outputs": [],
   "source": [
    "def buy(times):\n",
    "    print(times)\n",
    "    while True:\n",
    "        now_time = datetime.datetime.now().strftime('%Y-%m-%d %H:%M:%S.%f')\n",
    "        # 超过时间点击结算\n",
    "        if now_time > times:\n",
    "            #点击结算按钮\n",
    "            while True:\n",
    "                try:\n",
    "                    if browser.find_element_by_link_text(\"结 算\"):\n",
    "                        browser.find_element_by_link_text(\"结 算\").click()\n",
    "                        print(f\"结算成功，准备提交订单\")\n",
    "                        break\n",
    "                except:\n",
    "                    pass\n",
    "            # 点击提交订单按钮\n",
    "            while True:\n",
    "                try:\n",
    "                    if browser.find_element_by_link_text('提交订单'):\n",
    "                        browser.find_element_by_link_text('提交订单').click()\n",
    "                        print(f\"抢购成功，请尽快付款\")\n",
    "                        while True:\n",
    "                            try:\n",
    "                                if browser.find_element_by_link_text(\"忘记密码？\"):\n",
    "                                    #自定义设置密码\n",
    "                                    keyboard.press(\"9\")\n",
    "                                    keyboard.release(\"9\")\n",
    "                                    keyboard.press(\"7\")\n",
    "                                    keyboard.release(\"7\")\n",
    "                                    keyboard.press(\"0\")\n",
    "                                    keyboard.release(\"0\")\n",
    "                                    keyboard.press(\"8\")\n",
    "                                    keyboard.release(\"8\")\n",
    "                                    keyboard.press(\"0\")\n",
    "                                    keyboard.release(\"0\")\n",
    "                                    keyboard.press(\"9\")\n",
    "                                    keyboard.release(\"9\")\n",
    "                                    keyboard.press(Key.enter)\n",
    "                                    keyboard.release(Key.enter)\n",
    "                                    time.sleep(30)\n",
    "                                    break\n",
    "                            except:\n",
    "                                print(f\"等待\")\n",
    "                        break\n",
    "                    \n",
    "                except:                                                                                                                                                                                                                                                                                        \n",
    "                    print(f\"再次尝试提交订单\")\n",
    "            time.sleep(0.01)"
   ]
  },
  {
   "cell_type": "code",
   "execution_count": 8,
   "id": "88697592",
   "metadata": {},
   "outputs": [
    {
     "name": "stderr",
     "output_type": "stream",
     "text": [
      "C:\\Users\\huafe\\AppData\\Local\\Temp/ipykernel_5608/2371613855.py:5: DeprecationWarning: find_element_by_* commands are deprecated. Please use find_element() instead\n",
      "  if browser.find_element_by_link_text(\"亲，请登录\"):\n",
      "C:\\Users\\huafe\\AppData\\Local\\Temp/ipykernel_5608/2371613855.py:6: DeprecationWarning: find_element_by_* commands are deprecated. Please use find_element() instead\n",
      "  browser.find_element_by_link_text(\"亲，请登录\").click()\n"
     ]
    },
    {
     "name": "stdout",
     "output_type": "stream",
     "text": [
      "请尽快扫码登录\n"
     ]
    }
   ],
   "source": [
    "browser = webdriver.Chrome()\n",
    "login()"
   ]
  },
  {
   "cell_type": "code",
   "execution_count": null,
   "id": "c3f023cd",
   "metadata": {},
   "outputs": [
    {
     "name": "stdout",
     "output_type": "stream",
     "text": [
      "请输入筛选模式 1：手动筛选 2：自动全选\n",
      "2\n"
     ]
    },
    {
     "name": "stderr",
     "output_type": "stream",
     "text": [
      "C:\\Users\\huafe\\AppData\\Local\\Temp/ipykernel_5608/3484564215.py:9: DeprecationWarning: find_element_by_* commands are deprecated. Please use find_element() instead\n",
      "  if browser.find_element_by_id(\"J_SelectAll1\"):\n",
      "C:\\Users\\huafe\\AppData\\Local\\Temp/ipykernel_5608/3484564215.py:10: DeprecationWarning: find_element_by_* commands are deprecated. Please use find_element() instead\n",
      "  browser.find_element_by_id(\"J_SelectAll1\").click()\n"
     ]
    },
    {
     "name": "stdout",
     "output_type": "stream",
     "text": [
      "请输入抢购时间，格式:2021-12-03 14:40:12.7588472021-12-03 14:42:12.758847\n",
      "2021-12-03 14:42:12.758847\n"
     ]
    },
    {
     "name": "stderr",
     "output_type": "stream",
     "text": [
      "C:\\Users\\huafe\\AppData\\Local\\Temp/ipykernel_5608/2220337122.py:11: DeprecationWarning: find_element_by_* commands are deprecated. Please use find_element() instead\n",
      "  browser.find_element_by_link_text(\"结 算\").click()\n"
     ]
    },
    {
     "name": "stdout",
     "output_type": "stream",
     "text": [
      "结算成功，准备提交订单\n"
     ]
    },
    {
     "name": "stderr",
     "output_type": "stream",
     "text": [
      "C:\\Users\\huafe\\AppData\\Local\\Temp/ipykernel_5608/2220337122.py:19: DeprecationWarning: find_element_by_* commands are deprecated. Please use find_element() instead\n",
      "  if browser.find_element_by_link_text('提交订单'):\n",
      "C:\\Users\\huafe\\AppData\\Local\\Temp/ipykernel_5608/2220337122.py:20: DeprecationWarning: find_element_by_* commands are deprecated. Please use find_element() instead\n",
      "  browser.find_element_by_link_text('提交订单').click()\n"
     ]
    },
    {
     "name": "stdout",
     "output_type": "stream",
     "text": [
      "抢购成功，请尽快付款\n",
      "等待\n",
      "等待\n",
      "等待\n",
      "等待\n",
      "等待\n",
      "等待\n",
      "等待\n",
      "等待\n",
      "等待\n",
      "等待\n",
      "等待\n",
      "等待\n",
      "等待\n",
      "等待\n",
      "等待\n",
      "等待\n",
      "等待\n",
      "等待\n",
      "等待\n",
      "等待\n",
      "等待\n",
      "等待\n",
      "等待\n",
      "等待\n",
      "等待\n",
      "等待\n",
      "等待\n",
      "等待\n",
      "等待\n",
      "等待\n",
      "等待\n",
      "等待\n",
      "等待\n",
      "等待\n",
      "等待\n",
      "等待\n",
      "等待\n",
      "等待\n",
      "等待\n",
      "等待\n",
      "等待\n",
      "等待\n",
      "等待\n",
      "等待\n",
      "等待\n",
      "等待\n",
      "等待\n",
      "等待\n",
      "等待\n",
      "等待\n",
      "等待\n",
      "等待\n",
      "等待\n"
     ]
    },
    {
     "name": "stderr",
     "output_type": "stream",
     "text": [
      "C:\\Users\\huafe\\AppData\\Local\\Temp/ipykernel_5608/2220337122.py:24: DeprecationWarning: find_element_by_* commands are deprecated. Please use find_element() instead\n",
      "  if browser.find_element_by_link_text(\"忘记密码？\"):\n"
     ]
    },
    {
     "name": "stdout",
     "output_type": "stream",
     "text": [
      "等待\n",
      "等待\n",
      "等待\n",
      "等待\n",
      "等待\n",
      "等待\n",
      "等待\n",
      "等待\n",
      "等待\n",
      "等待\n",
      "等待\n",
      "等待\n",
      "等待\n",
      "等待\n",
      "等待\n",
      "等待\n",
      "等待\n",
      "等待\n",
      "等待\n",
      "等待\n",
      "等待\n",
      "等待\n",
      "等待\n",
      "等待\n",
      "等待\n",
      "等待\n",
      "等待\n",
      "等待\n",
      "等待\n",
      "等待\n",
      "等待\n",
      "等待\n",
      "等待\n",
      "等待\n",
      "等待\n",
      "等待\n",
      "等待\n",
      "等待\n",
      "等待\n",
      "等待\n",
      "等待\n",
      "等待\n",
      "等待\n",
      "等待\n",
      "等待\n",
      "等待\n",
      "等待\n",
      "等待\n",
      "等待\n",
      "等待\n",
      "等待\n",
      "等待\n",
      "等待\n",
      "等待\n",
      "等待\n",
      "等待\n",
      "等待\n",
      "等待\n",
      "等待\n",
      "等待\n",
      "等待\n",
      "等待\n",
      "等待\n",
      "等待\n",
      "等待\n",
      "等待\n",
      "等待\n",
      "等待\n",
      "等待\n",
      "等待\n",
      "等待\n",
      "等待\n",
      "等待\n",
      "等待\n",
      "等待\n",
      "等待\n",
      "等待\n",
      "等待\n",
      "等待\n",
      "等待\n",
      "等待\n",
      "等待\n",
      "等待\n",
      "等待\n",
      "等待\n",
      "等待\n",
      "等待\n"
     ]
    }
   ],
   "source": [
    "if picking():\n",
    "    order_time = input(\"请输入抢购时间，格式:\"+str(now_time))\n",
    "    buy(order_time)"
   ]
  },
  {
   "cell_type": "code",
   "execution_count": null,
   "id": "2aacdca6",
   "metadata": {},
   "outputs": [],
   "source": []
  }
 ],
 "metadata": {
  "kernelspec": {
   "display_name": "Python 3 (ipykernel)",
   "language": "python",
   "name": "python3"
  },
  "language_info": {
   "codemirror_mode": {
    "name": "ipython",
    "version": 3
   },
   "file_extension": ".py",
   "mimetype": "text/x-python",
   "name": "python",
   "nbconvert_exporter": "python",
   "pygments_lexer": "ipython3",
   "version": "3.8.0"
  }
 },
 "nbformat": 4,
 "nbformat_minor": 5
}
