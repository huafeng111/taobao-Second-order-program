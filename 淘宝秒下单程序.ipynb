{
 "cells": [
  {
   "cell_type": "code",
   "execution_count": 1,
   "id": "0c8f760b",
   "metadata": {},
   "outputs": [],
   "source": [
    "from selenium import webdriver\n",
    "import datetime\n",
    "import time\n",
    "from pynput.keyboard import Key, Controller"
   ]
  },
  {
   "cell_type": "code",
   "execution_count": 2,
   "id": "72c4d212",
   "metadata": {},
   "outputs": [
    {
     "name": "stdout",
     "output_type": "stream",
     "text": [
      "2021-12-02 15:27:20.006675\n"
     ]
    }
   ],
   "source": [
    "now_time = datetime.datetime.now().strftime('%Y-%m-%d %H:%M:%S.%f')\n",
    "print(now_time)"
   ]
  },
  {
   "cell_type": "code",
   "execution_count": 3,
   "id": "b69e4c81",
   "metadata": {},
   "outputs": [],
   "source": [
    "keyboard=Controller()"
   ]
  },
  {
   "cell_type": "code",
   "execution_count": 4,
   "id": "f4b83c39",
   "metadata": {},
   "outputs": [],
   "source": [
    "def login():\n",
    "    # 扫码登录\n",
    "    browser.get(\"https://www.taobao.com\")\n",
    "    time.sleep(7)\n",
    "    if browser.find_element_by_link_text(\"亲，请登录\"):\n",
    "        browser.find_element_by_link_text(\"亲，请登录\").click()\n",
    "        print(f\"请尽快扫码登录\")\n",
    "    time.sleep(20)"
   ]
  },
  {
   "cell_type": "code",
   "execution_count": 5,
   "id": "5ca289f8",
   "metadata": {},
   "outputs": [],
   "source": [
    "def picking():\n",
    "    # 打开购物车页面\n",
    "    browser.get(\"https://cart.taobao.com/cart.htm\")\n",
    "    time.sleep(1)\n",
    "    state=int(input(\"请输入筛选模式 1：手动筛选 2：自动全选\\n\"))\n",
    "    if state == 2:\n",
    "        while True:\n",
    "            try:\n",
    "                if browser.find_element_by_id(\"J_SelectAll1\"):\n",
    "                    browser.find_element_by_id(\"J_SelectAll1\").click()\n",
    "                    break\n",
    "            except:\n",
    "                print(f\"登录超时 请重新尝试\")\n",
    "                return False\n",
    "                break\n",
    "    else:\n",
    "        while True:\n",
    "            order_state = input(\"请手动勾选商品，完成请输入Y\")\n",
    "            if order_state==\"Y\":\n",
    "                break\n",
    "    return True"
   ]
  },
  {
   "cell_type": "code",
   "execution_count": 6,
   "id": "496a72b7",
   "metadata": {},
   "outputs": [],
   "source": [
    "def buy(times):\n",
    "    print(times)\n",
    "    while True:\n",
    "        now_time = datetime.datetime.now().strftime('%Y-%m-%d %H:%M:%S.%f')\n",
    "        # 超过时间点击结算\n",
    "        if now_time > times:\n",
    "            #点击结算按钮\n",
    "            while True:\n",
    "                try:\n",
    "                    if browser.find_element_by_link_text(\"结 算\"):\n",
    "                        browser.find_element_by_link_text(\"结 算\").click()\n",
    "                        print(f\"结算成功，准备提交订单\")\n",
    "                        break\n",
    "                except:\n",
    "                    pass\n",
    "            # 点击提交订单按钮\n",
    "            while True:\n",
    "                try:\n",
    "                    if browser.find_element_by_link_text('提交订单'):\n",
    "                        browser.find_element_by_link_text('提交订单').click()\n",
    "                        print(f\"抢购成功，请尽快付款\")\n",
    "                        while True:\n",
    "                            try:\n",
    "                                if browser.find_element_by_link_text('确认付款'):\n",
    "                                    #自定义设置密码\n",
    "                                    '''\n",
    "                                    keyboard.press(9)\n",
    "                                    keyboard.release(9)\n",
    "                                    keyboard.press(7)\n",
    "                                    keyboard.release(7)\n",
    "                                   \n",
    "                                    '''\n",
    "                                    browser.find_element_by_link_text('确认付款').click()\n",
    "                                    break\n",
    "                            except:\n",
    "                                print(f\"等待\")\n",
    "                        break\n",
    "                    \n",
    "                except:                                                                                                                                                                                                                                                                                        \n",
    "                    print(f\"再次尝试提交订单\")\n",
    "            time.sleep(0.01)"
   ]
  },
  {
   "cell_type": "code",
   "execution_count": 7,
   "id": "88697592",
   "metadata": {},
   "outputs": [
    {
     "name": "stderr",
     "output_type": "stream",
     "text": [
      "C:\\Users\\huafe\\AppData\\Local\\Temp/ipykernel_12456/2797383383.py:5: DeprecationWarning: find_element_by_* commands are deprecated. Please use find_element() instead\n",
      "  if browser.find_element_by_link_text(\"亲，请登录\"):\n",
      "C:\\Users\\huafe\\AppData\\Local\\Temp/ipykernel_12456/2797383383.py:6: DeprecationWarning: find_element_by_* commands are deprecated. Please use find_element() instead\n",
      "  browser.find_element_by_link_text(\"手机逛淘宝\").click()\n"
     ]
    },
    {
     "name": "stdout",
     "output_type": "stream",
     "text": [
      "请尽快扫码登录\n"
     ]
    }
   ],
   "source": [
    "browser = webdriver.Chrome()\n",
    "login()"
   ]
  },
  {
   "cell_type": "code",
   "execution_count": 8,
   "id": "c3f023cd",
   "metadata": {},
   "outputs": [
    {
     "ename": "WebDriverException",
     "evalue": "Message: chrome not reachable\n  (Session info: chrome=95.0.4638.54)\nStacktrace:\nBacktrace:\n\tOrdinal0 [0x00A206F3+2492147]\n\tOrdinal0 [0x009B9BD1+2071505]\n\tOrdinal0 [0x008C2340+1057600]\n\tOrdinal0 [0x008B7474+1012852]\n\tOrdinal0 [0x008B7C76+1014902]\n\tOrdinal0 [0x008B9345+1020741]\n\tOrdinal0 [0x008B3453+996435]\n\tOrdinal0 [0x008C3690+1062544]\n\tOrdinal0 [0x009146D2+1394386]\n\tOrdinal0 [0x0090568B+1332875]\n\tOrdinal0 [0x008E21D4+1188308]\n\tOrdinal0 [0x008E302F+1191983]\n\tGetHandleVerifier [0x00BA67A6+1545030]\n\tGetHandleVerifier [0x00C5105C+2243580]\n\tGetHandleVerifier [0x00AABC97+518199]\n\tGetHandleVerifier [0x00AAAD80+514336]\n\tOrdinal0 [0x009BED2D+2092333]\n\tOrdinal0 [0x009C2EE8+2109160]\n\tOrdinal0 [0x009C3022+2109474]\n\tOrdinal0 [0x009CCB71+2149233]\n\tBaseThreadInitThunk [0x7627FA29+25]\n\tRtlGetAppContainerNamedObjectPath [0x77B77A9E+286]\n\tRtlGetAppContainerNamedObjectPath [0x77B77A6E+238]\n",
     "output_type": "error",
     "traceback": [
      "\u001b[1;31m---------------------------------------------------------\u001b[0m",
      "\u001b[1;31mWebDriverException\u001b[0m      Traceback (most recent call last)",
      "\u001b[1;32m~\\AppData\\Local\\Temp/ipykernel_12456/3537611916.py\u001b[0m in \u001b[0;36m<module>\u001b[1;34m\u001b[0m\n\u001b[1;32m----> 1\u001b[1;33m \u001b[1;32mif\u001b[0m \u001b[0mpicking\u001b[0m\u001b[1;33m(\u001b[0m\u001b[1;33m)\u001b[0m\u001b[1;33m:\u001b[0m\u001b[1;33m\u001b[0m\u001b[1;33m\u001b[0m\u001b[0m\n\u001b[0m\u001b[0;32m      2\u001b[0m     \u001b[0morder_time\u001b[0m \u001b[1;33m=\u001b[0m \u001b[0minput\u001b[0m\u001b[1;33m(\u001b[0m\u001b[1;34m\"请输入抢购时间，格式:\"\u001b[0m\u001b[1;33m+\u001b[0m\u001b[0mstr\u001b[0m\u001b[1;33m(\u001b[0m\u001b[0mnow_time\u001b[0m\u001b[1;33m)\u001b[0m\u001b[1;33m)\u001b[0m\u001b[1;33m\u001b[0m\u001b[1;33m\u001b[0m\u001b[0m\n\u001b[0;32m      3\u001b[0m     \u001b[0mbuy\u001b[0m\u001b[1;33m(\u001b[0m\u001b[0morder_time\u001b[0m\u001b[1;33m)\u001b[0m\u001b[1;33m\u001b[0m\u001b[1;33m\u001b[0m\u001b[0m\n",
      "\u001b[1;32m~\\AppData\\Local\\Temp/ipykernel_12456/3484564215.py\u001b[0m in \u001b[0;36mpicking\u001b[1;34m()\u001b[0m\n\u001b[0;32m      1\u001b[0m \u001b[1;32mdef\u001b[0m \u001b[0mpicking\u001b[0m\u001b[1;33m(\u001b[0m\u001b[1;33m)\u001b[0m\u001b[1;33m:\u001b[0m\u001b[1;33m\u001b[0m\u001b[1;33m\u001b[0m\u001b[0m\n\u001b[0;32m      2\u001b[0m     \u001b[1;31m# 打开购物车页面\u001b[0m\u001b[1;33m\u001b[0m\u001b[1;33m\u001b[0m\u001b[1;33m\u001b[0m\u001b[0m\n\u001b[1;32m----> 3\u001b[1;33m     \u001b[0mbrowser\u001b[0m\u001b[1;33m.\u001b[0m\u001b[0mget\u001b[0m\u001b[1;33m(\u001b[0m\u001b[1;34m\"https://cart.taobao.com/cart.htm\"\u001b[0m\u001b[1;33m)\u001b[0m\u001b[1;33m\u001b[0m\u001b[1;33m\u001b[0m\u001b[0m\n\u001b[0m\u001b[0;32m      4\u001b[0m     \u001b[0mtime\u001b[0m\u001b[1;33m.\u001b[0m\u001b[0msleep\u001b[0m\u001b[1;33m(\u001b[0m\u001b[1;36m1\u001b[0m\u001b[1;33m)\u001b[0m\u001b[1;33m\u001b[0m\u001b[1;33m\u001b[0m\u001b[0m\n\u001b[0;32m      5\u001b[0m     \u001b[0mstate\u001b[0m\u001b[1;33m=\u001b[0m\u001b[0mint\u001b[0m\u001b[1;33m(\u001b[0m\u001b[0minput\u001b[0m\u001b[1;33m(\u001b[0m\u001b[1;34m\"请输入筛选模式 1：手动筛选 2：自动全选\\n\"\u001b[0m\u001b[1;33m)\u001b[0m\u001b[1;33m)\u001b[0m\u001b[1;33m\u001b[0m\u001b[1;33m\u001b[0m\u001b[0m\n",
      "\u001b[1;32mc:\\users\\huafe\\appdata\\local\\programs\\python\\python38\\lib\\site-packages\\selenium\\webdriver\\remote\\webdriver.py\u001b[0m in \u001b[0;36mget\u001b[1;34m(self, url)\u001b[0m\n\u001b[0;32m    434\u001b[0m         \u001b[0mLoads\u001b[0m \u001b[0ma\u001b[0m \u001b[0mweb\u001b[0m \u001b[0mpage\u001b[0m \u001b[1;32min\u001b[0m \u001b[0mthe\u001b[0m \u001b[0mcurrent\u001b[0m \u001b[0mbrowser\u001b[0m \u001b[0msession\u001b[0m\u001b[1;33m.\u001b[0m\u001b[1;33m\u001b[0m\u001b[1;33m\u001b[0m\u001b[0m\n\u001b[0;32m    435\u001b[0m         \"\"\"\n\u001b[1;32m--> 436\u001b[1;33m         \u001b[0mself\u001b[0m\u001b[1;33m.\u001b[0m\u001b[0mexecute\u001b[0m\u001b[1;33m(\u001b[0m\u001b[0mCommand\u001b[0m\u001b[1;33m.\u001b[0m\u001b[0mGET\u001b[0m\u001b[1;33m,\u001b[0m \u001b[1;33m{\u001b[0m\u001b[1;34m'url'\u001b[0m\u001b[1;33m:\u001b[0m \u001b[0murl\u001b[0m\u001b[1;33m}\u001b[0m\u001b[1;33m)\u001b[0m\u001b[1;33m\u001b[0m\u001b[1;33m\u001b[0m\u001b[0m\n\u001b[0m\u001b[0;32m    437\u001b[0m \u001b[1;33m\u001b[0m\u001b[0m\n\u001b[0;32m    438\u001b[0m     \u001b[1;33m@\u001b[0m\u001b[0mproperty\u001b[0m\u001b[1;33m\u001b[0m\u001b[1;33m\u001b[0m\u001b[0m\n",
      "\u001b[1;32mc:\\users\\huafe\\appdata\\local\\programs\\python\\python38\\lib\\site-packages\\selenium\\webdriver\\remote\\webdriver.py\u001b[0m in \u001b[0;36mexecute\u001b[1;34m(self, driver_command, params)\u001b[0m\n\u001b[0;32m    422\u001b[0m         \u001b[0mresponse\u001b[0m \u001b[1;33m=\u001b[0m \u001b[0mself\u001b[0m\u001b[1;33m.\u001b[0m\u001b[0mcommand_executor\u001b[0m\u001b[1;33m.\u001b[0m\u001b[0mexecute\u001b[0m\u001b[1;33m(\u001b[0m\u001b[0mdriver_command\u001b[0m\u001b[1;33m,\u001b[0m \u001b[0mparams\u001b[0m\u001b[1;33m)\u001b[0m\u001b[1;33m\u001b[0m\u001b[1;33m\u001b[0m\u001b[0m\n\u001b[0;32m    423\u001b[0m         \u001b[1;32mif\u001b[0m \u001b[0mresponse\u001b[0m\u001b[1;33m:\u001b[0m\u001b[1;33m\u001b[0m\u001b[1;33m\u001b[0m\u001b[0m\n\u001b[1;32m--> 424\u001b[1;33m             \u001b[0mself\u001b[0m\u001b[1;33m.\u001b[0m\u001b[0merror_handler\u001b[0m\u001b[1;33m.\u001b[0m\u001b[0mcheck_response\u001b[0m\u001b[1;33m(\u001b[0m\u001b[0mresponse\u001b[0m\u001b[1;33m)\u001b[0m\u001b[1;33m\u001b[0m\u001b[1;33m\u001b[0m\u001b[0m\n\u001b[0m\u001b[0;32m    425\u001b[0m             response['value'] = self._unwrap_value(\n\u001b[0;32m    426\u001b[0m                 response.get('value', None))\n",
      "\u001b[1;32mc:\\users\\huafe\\appdata\\local\\programs\\python\\python38\\lib\\site-packages\\selenium\\webdriver\\remote\\errorhandler.py\u001b[0m in \u001b[0;36mcheck_response\u001b[1;34m(self, response)\u001b[0m\n\u001b[0;32m    245\u001b[0m                 \u001b[0malert_text\u001b[0m \u001b[1;33m=\u001b[0m \u001b[0mvalue\u001b[0m\u001b[1;33m[\u001b[0m\u001b[1;34m'alert'\u001b[0m\u001b[1;33m]\u001b[0m\u001b[1;33m.\u001b[0m\u001b[0mget\u001b[0m\u001b[1;33m(\u001b[0m\u001b[1;34m'text'\u001b[0m\u001b[1;33m)\u001b[0m\u001b[1;33m\u001b[0m\u001b[1;33m\u001b[0m\u001b[0m\n\u001b[0;32m    246\u001b[0m             \u001b[1;32mraise\u001b[0m \u001b[0mexception_class\u001b[0m\u001b[1;33m(\u001b[0m\u001b[0mmessage\u001b[0m\u001b[1;33m,\u001b[0m \u001b[0mscreen\u001b[0m\u001b[1;33m,\u001b[0m \u001b[0mstacktrace\u001b[0m\u001b[1;33m,\u001b[0m \u001b[0malert_text\u001b[0m\u001b[1;33m)\u001b[0m  \u001b[1;31m# type: ignore[call-arg]  # mypy is not smart enough here\u001b[0m\u001b[1;33m\u001b[0m\u001b[1;33m\u001b[0m\u001b[0m\n\u001b[1;32m--> 247\u001b[1;33m         \u001b[1;32mraise\u001b[0m \u001b[0mexception_class\u001b[0m\u001b[1;33m(\u001b[0m\u001b[0mmessage\u001b[0m\u001b[1;33m,\u001b[0m \u001b[0mscreen\u001b[0m\u001b[1;33m,\u001b[0m \u001b[0mstacktrace\u001b[0m\u001b[1;33m)\u001b[0m\u001b[1;33m\u001b[0m\u001b[1;33m\u001b[0m\u001b[0m\n\u001b[0m\u001b[0;32m    248\u001b[0m \u001b[1;33m\u001b[0m\u001b[0m\n\u001b[0;32m    249\u001b[0m     \u001b[1;32mdef\u001b[0m \u001b[0m_value_or_default\u001b[0m\u001b[1;33m(\u001b[0m\u001b[0mself\u001b[0m\u001b[1;33m,\u001b[0m \u001b[0mobj\u001b[0m\u001b[1;33m:\u001b[0m \u001b[0mMapping\u001b[0m\u001b[1;33m[\u001b[0m\u001b[0m_KT\u001b[0m\u001b[1;33m,\u001b[0m \u001b[0m_VT\u001b[0m\u001b[1;33m]\u001b[0m\u001b[1;33m,\u001b[0m \u001b[0mkey\u001b[0m\u001b[1;33m:\u001b[0m \u001b[0m_KT\u001b[0m\u001b[1;33m,\u001b[0m \u001b[0mdefault\u001b[0m\u001b[1;33m:\u001b[0m \u001b[0m_VT\u001b[0m\u001b[1;33m)\u001b[0m \u001b[1;33m->\u001b[0m \u001b[0m_VT\u001b[0m\u001b[1;33m:\u001b[0m\u001b[1;33m\u001b[0m\u001b[1;33m\u001b[0m\u001b[0m\n",
      "\u001b[1;31mWebDriverException\u001b[0m: Message: chrome not reachable\n  (Session info: chrome=95.0.4638.54)\nStacktrace:\nBacktrace:\n\tOrdinal0 [0x00A206F3+2492147]\n\tOrdinal0 [0x009B9BD1+2071505]\n\tOrdinal0 [0x008C2340+1057600]\n\tOrdinal0 [0x008B7474+1012852]\n\tOrdinal0 [0x008B7C76+1014902]\n\tOrdinal0 [0x008B9345+1020741]\n\tOrdinal0 [0x008B3453+996435]\n\tOrdinal0 [0x008C3690+1062544]\n\tOrdinal0 [0x009146D2+1394386]\n\tOrdinal0 [0x0090568B+1332875]\n\tOrdinal0 [0x008E21D4+1188308]\n\tOrdinal0 [0x008E302F+1191983]\n\tGetHandleVerifier [0x00BA67A6+1545030]\n\tGetHandleVerifier [0x00C5105C+2243580]\n\tGetHandleVerifier [0x00AABC97+518199]\n\tGetHandleVerifier [0x00AAAD80+514336]\n\tOrdinal0 [0x009BED2D+2092333]\n\tOrdinal0 [0x009C2EE8+2109160]\n\tOrdinal0 [0x009C3022+2109474]\n\tOrdinal0 [0x009CCB71+2149233]\n\tBaseThreadInitThunk [0x7627FA29+25]\n\tRtlGetAppContainerNamedObjectPath [0x77B77A9E+286]\n\tRtlGetAppContainerNamedObjectPath [0x77B77A6E+238]\n"
     ]
    }
   ],
   "source": [
    "if picking():\n",
    "    order_time = input(\"请输入抢购时间，格式:\"+str(now_time))\n",
    "    buy(order_time)"
   ]
  },
  {
   "cell_type": "code",
   "execution_count": null,
   "id": "01edfd4a",
   "metadata": {},
   "outputs": [],
   "source": []
  }
 ],
 "metadata": {
  "kernelspec": {
   "display_name": "Python 3 (ipykernel)",
   "language": "python",
   "name": "python3"
  },
  "language_info": {
   "codemirror_mode": {
    "name": "ipython",
    "version": 3
   },
   "file_extension": ".py",
   "mimetype": "text/x-python",
   "name": "python",
   "nbconvert_exporter": "python",
   "pygments_lexer": "ipython3",
   "version": "3.8.0"
  }
 },
 "nbformat": 4,
 "nbformat_minor": 5
}
